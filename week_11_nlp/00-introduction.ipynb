{
 "cells": [
  {
   "cell_type": "markdown",
   "metadata": {},
   "source": [
    "# Overview\n",
    "To setup for this week's coding activities, we'll need to do two things:\n",
    "- Install the Python packages [**spaCy**](https://spacy.io/) and [**medspacy**](https://github.com/medspacy/medspacy)\n",
    "- Download two trained NLP models\n",
    "\n",
    "Open up your terminal (**Anaconda Prompt** for Windows, **Terminal** for Mac) and let's get started!\n",
    "\n",
    "\n",
    "### Python packages\n",
    "First, run this command which will run both of the libraries we're using today:\n",
    "\n",
    "```bash\n",
    "pip install medspacy\n",
    "```\n",
    "\n",
    "### Trained NLP models\n",
    "Next, download the NLP models which we will be using:\n",
    "```bash\n",
    "python -m spacy download en_core_web_sm\n",
    "\n",
    "pip install https://github.com/abchapman93/spacy_models/raw/master/releases/en_info_3700_i2b2_2012-0.1.0/dist/en_info_3700_i2b2_2012-0.1.0.tar.gz\n",
    "```\n",
    "\n"
   ]
  },
  {
   "cell_type": "markdown",
   "metadata": {},
   "source": [
    "## Test if it worked\n",
    "Once you've run the commands above, first restart your Jupyter kernel by finding the menu option at the top of the page:\n",
    "\n",
    "---\n",
    "\"Kernel\" >> \"Restart\"\n",
    "\n",
    "---\n",
    "\n",
    "Then run the following cells to make sure they run sucessfully:"
   ]
  },
  {
   "cell_type": "code",
   "execution_count": 1,
   "metadata": {},
   "outputs": [
    {
     "data": {
      "text/plain": [
       "<spacy.lang.en.English at 0x11256ca90>"
      ]
     },
     "execution_count": 1,
     "metadata": {},
     "output_type": "execute_result"
    }
   ],
   "source": [
    "import spacy\n",
    "spacy.load(\"en_core_web_sm\")"
   ]
  },
  {
   "cell_type": "code",
   "execution_count": 2,
   "metadata": {},
   "outputs": [
    {
     "name": "stderr",
     "output_type": "stream",
     "text": [
      "/Users/alecchapman/opt/anaconda3/envs/uvu38/lib/python3.8/site-packages/spacy/util.py:275: UserWarning: [W031] Model 'en_info_3700_i2b2_2012' (0.1.0) requires spaCy v2.2 and is incompatible with the current spaCy version (2.3.2). This may lead to unexpected results or runtime errors. To resolve this, download a newer compatible model or retrain your custom model with the current spaCy version. For more details and available updates, run: python -m spacy validate\n",
      "  warnings.warn(warn_msg)\n"
     ]
    },
    {
     "data": {
      "text/plain": [
       "<spacy.lang.en.English at 0x123c57a30>"
      ]
     },
     "execution_count": 2,
     "metadata": {},
     "output_type": "execute_result"
    }
   ],
   "source": [
    "import medspacy\n",
    "medspacy.load(\"en_info_3700_i2b2_2012\")"
   ]
  },
  {
   "cell_type": "markdown",
   "metadata": {},
   "source": [
    "# Next Steps\n",
    "Now that we have the necessary libraries and models installed, we can start processing text. In the next notebook, we'll get a quick introduction to spaCy, one of the most popular libraries for NLP in Python.\n",
    "\n",
    "[01-intro_spacy.ipynb](01-intro_spacy.ipynb)"
   ]
  },
  {
   "cell_type": "code",
   "execution_count": null,
   "metadata": {},
   "outputs": [],
   "source": []
  }
 ],
 "metadata": {
  "kernelspec": {
   "display_name": "Python 3",
   "language": "python",
   "name": "python3"
  },
  "language_info": {
   "codemirror_mode": {
    "name": "ipython",
    "version": 3
   },
   "file_extension": ".py",
   "mimetype": "text/x-python",
   "name": "python",
   "nbconvert_exporter": "python",
   "pygments_lexer": "ipython3",
   "version": "3.8.5"
  }
 },
 "nbformat": 4,
 "nbformat_minor": 2
}
